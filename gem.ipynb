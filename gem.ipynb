{
 "cells": [
  {
   "cell_type": "code",
   "execution_count": 1,
   "metadata": {},
   "outputs": [
    {
     "name": "stderr",
     "output_type": "stream",
     "text": [
      "WARNING: Ignoring invalid distribution ~rotobuf (C:\\Users\\HP\\AppData\\Roaming\\Python\\Python311\\site-packages)\n",
      "WARNING: Ignoring invalid distribution ~rotobuf (C:\\Users\\HP\\AppData\\Roaming\\Python\\Python311\\site-packages)\n",
      "WARNING: Ignoring invalid distribution ~rotobuf (C:\\Users\\HP\\AppData\\Roaming\\Python\\Python311\\site-packages)\n",
      "ERROR: pip's dependency resolver does not currently take into account all the packages that are installed. This behaviour is the source of the following dependency conflicts.\n",
      "tensorflow-metadata 1.14.0 requires protobuf<4.21,>=3.20.3, but you have protobuf 4.25.3 which is incompatible.\n",
      "WARNING: Ignoring invalid distribution ~rotobuf (C:\\Users\\HP\\AppData\\Roaming\\Python\\Python311\\site-packages)\n",
      "WARNING: Ignoring invalid distribution ~rotobuf (C:\\Users\\HP\\AppData\\Roaming\\Python\\Python311\\site-packages)\n",
      "WARNING: Ignoring invalid distribution ~rotobuf (C:\\Users\\HP\\AppData\\Roaming\\Python\\Python311\\site-packages)\n"
     ]
    }
   ],
   "source": [
    "!pip install -q -U google-generativeai"
   ]
  },
  {
   "cell_type": "code",
   "execution_count": 2,
   "metadata": {},
   "outputs": [],
   "source": [
    "import pathlib\n",
    "import textwrap\n",
    "\n",
    "import google.generativeai as genai\n",
    "\n",
    "from IPython.display import display\n",
    "from IPython.display import Markdown"
   ]
  },
  {
   "cell_type": "code",
   "execution_count": 8,
   "metadata": {},
   "outputs": [],
   "source": [
    "def to_markdown(text):\n",
    "    \n",
    "    text = text.replace('•', '  *')\n",
    "    \n",
    "    return Markdown(textwrap.indent(text, '> ', predicate=lambda _: True))"
   ]
  },
  {
   "cell_type": "code",
   "execution_count": 9,
   "metadata": {},
   "outputs": [],
   "source": [
    "from dotenv import load_dotenv\n",
    "import os\n",
    "load_dotenv()\n",
    "\n",
    "genai.configure(api_key=os.getenv(\"GOOGLE_API_KEY\"))"
   ]
  },
  {
   "cell_type": "code",
   "execution_count": 13,
   "metadata": {},
   "outputs": [
    {
     "name": "stdout",
     "output_type": "stream",
     "text": [
      "models/gemini-1.0-pro\n",
      "models/gemini-1.0-pro-001\n",
      "models/gemini-1.0-pro-latest\n",
      "models/gemini-1.0-pro-vision-latest\n",
      "models/gemini-1.5-flash-latest\n",
      "models/gemini-1.5-pro-latest\n",
      "models/gemini-pro\n",
      "models/gemini-pro-vision\n"
     ]
    }
   ],
   "source": [
    "for m in genai.list_models():\n",
    "    \n",
    "    if 'generateContent' in m.supported_generation_methods:\n",
    "        \n",
    "        print(m.name)"
   ]
  },
  {
   "cell_type": "code",
   "execution_count": 14,
   "metadata": {},
   "outputs": [],
   "source": [
    "model = genai.GenerativeModel('gemini-pro')"
   ]
  },
  {
   "cell_type": "code",
   "execution_count": 16,
   "metadata": {},
   "outputs": [],
   "source": [
    "response = model.generate_content(\"What is the meaning of life?\")"
   ]
  },
  {
   "cell_type": "code",
   "execution_count": 17,
   "metadata": {},
   "outputs": [
    {
     "data": {
      "text/markdown": [
       "> The meaning of life is a deeply personal and subjective question that has been pondered by philosophers, theologians, scientists, and individuals throughout history. There is no single, universally accepted answer, and different people may find meaning in different aspects of their lives.  However, some common themes that emerge in discussions about the meaning of life include: \n",
       "> \n",
       "> 1. **Purpose and Fulfillment:** Many people find meaning in pursuing their passions, goals, and aspirations. This could involve contributing to society, making a difference in the world, or simply living a life that is aligned with one's values and interests. \n",
       "> \n",
       "> 2. **Relationships and Connections:** Strong relationships with family, friends, and loved ones can provide a deep sense of meaning and purpose. Sharing experiences, offering support, and feeling loved and valued can contribute to a fulfilling life. \n",
       "> \n",
       "> 3. **Growth and Development:** Embracing challenges, learning new skills, and growing as an individual can be a source of meaning and accomplishment. It involves seeking knowledge, expanding one's perspectives, and striving for self-improvement. \n",
       "> \n",
       "> 4. **Contribution to Society:** Making a positive impact on the world, whether through volunteering, activism, or simply being a kind and compassionate person, can give life a sense of purpose and significance. \n",
       "> \n",
       "> 5. **Experiences and Moments:** Appreciating the beauty of the present moment, pursuing hobbies and interests, and creating memories can provide joy, fulfillment, and a sense of meaning. \n",
       "> \n",
       "> 6. **Spiritual or Religious Beliefs:** For some people, faith in a higher power or spiritual practices can provide a framework for understanding the meaning of life. It may involve following religious teachings, engaging in meditation or prayer, or seeking a deeper connection with the divine.\n",
       "> \n",
       "> 7. **Personal Values and Beliefs:** Living in accordance with one's core values and beliefs can provide a sense of authenticity and purpose. It involves making choices that are aligned with one's principles and striving to live a life that reflects those values. \n",
       "> \n",
       "> Ultimately, the meaning of life is not something that can be definitively defined or prescribed. It is a unique and deeply personal journey that each individual must discover for themselves."
      ],
      "text/plain": [
       "<IPython.core.display.Markdown object>"
      ]
     },
     "execution_count": 17,
     "metadata": {},
     "output_type": "execute_result"
    }
   ],
   "source": [
    "to_markdown(response.text)"
   ]
  },
  {
   "cell_type": "code",
   "execution_count": 18,
   "metadata": {},
   "outputs": [],
   "source": [
    "response = model.generate_content(\"What is the meaning of life?\", stream=True)"
   ]
  },
  {
   "cell_type": "code",
   "execution_count": 21,
   "metadata": {},
   "outputs": [
    {
     "name": "stdout",
     "output_type": "stream",
     "text": [
      "The meaning of life is a question that has been pondered by philosophers, theologians,\n",
      "________________________________________________________________________________\n",
      " and scientists for centuries. There is no one definitive answer, as the meaning of life is likely to be different for each individual. However, some common themes that\n",
      "________________________________________________________________________________\n",
      " have emerged from these discussions include:\n",
      "\n",
      "* **To find purpose and fulfillment.** Many people believe that the meaning of life is to find a purpose or calling that gives them a sense of fulfillment. This could involve pursuing a career, raising a family, or volunteering for a cause that you care about.\n",
      "* **To\n",
      "________________________________________________________________________________\n",
      " experience love and connection.** Humans are social creatures, and many people find that the meaning of life is to experience love and connection with others. This could involve spending time with loved ones, making new friends, or helping those in need.\n",
      "* **To grow and learn.** Life is a journey of growth and learning. The more we experience and learn, the more we develop as individuals. This growth can help us to become more compassionate, understanding, and resilient.\n",
      "* **To make a difference in the world.** Many people believe that the meaning of life is to make a difference in the world. This could involve working to improve the\n",
      "________________________________________________________________________________\n",
      " lives of others, protect the environment, or promote peace and understanding.\n",
      "\n",
      "Ultimately, the meaning of life is something that each individual must discover for themselves. There is no right or wrong answer, and the meaning of life may change over time. However, by reflecting on these common themes, we can begin to get a better understanding of what makes life meaningful.\n",
      "________________________________________________________________________________\n"
     ]
    }
   ],
   "source": [
    "for chunk in response:\n",
    "    print(chunk.text)\n",
    "    \n",
    "    print(\"_\"*80)"
   ]
  },
  {
   "cell_type": "code",
   "execution_count": null,
   "metadata": {},
   "outputs": [],
   "source": []
  }
 ],
 "metadata": {
  "kernelspec": {
   "display_name": "Python 3",
   "language": "python",
   "name": "python3"
  },
  "language_info": {
   "codemirror_mode": {
    "name": "ipython",
    "version": 3
   },
   "file_extension": ".py",
   "mimetype": "text/x-python",
   "name": "python",
   "nbconvert_exporter": "python",
   "pygments_lexer": "ipython3",
   "version": "3.11.9"
  }
 },
 "nbformat": 4,
 "nbformat_minor": 2
}
